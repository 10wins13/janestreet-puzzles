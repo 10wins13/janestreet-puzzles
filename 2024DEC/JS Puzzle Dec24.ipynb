{
 "cells": [
  {
   "cell_type": "markdown",
   "metadata": {},
   "source": [
    "<h3> Jane Street Puzzle Dec 2024 <h3>"
   ]
  },
  {
   "cell_type": "code",
   "execution_count": 3,
   "metadata": {},
   "outputs": [],
   "source": [
    "import requests\n",
    "from bs4 import BeautifulSoup\n",
    "from IPython.display import Markdown, display, Image"
   ]
  },
  {
   "cell_type": "code",
   "execution_count": 35,
   "metadata": {},
   "outputs": [
    {
     "data": {
      "text/markdown": [
       "### Games Night!\n",
       "\n"
      ],
      "text/plain": [
       "<IPython.core.display.Markdown object>"
      ]
     },
     "metadata": {},
     "output_type": "display_data"
    },
    {
     "data": {
      "text/markdown": [
       "Oh no! The elves in charge of board games only managed to complete a couple of sets\n",
       "before they were distracted by playtesting the toys. Ho-ho-ho-w infuriating!\n",
       "\n"
      ],
      "text/plain": [
       "<IPython.core.display.Markdown object>"
      ]
     },
     "metadata": {},
     "output_type": "display_data"
    },
    {
     "data": {
      "text/markdown": [
       "[The answer to this puzzle is a single word.]"
      ],
      "text/plain": [
       "<IPython.core.display.Markdown object>"
      ]
     },
     "metadata": {},
     "output_type": "display_data"
    },
    {
     "data": {
      "text/html": [
       "<img src=\"https://www.janestreet.com/puzzles/games-night.jpg\" width=\"400\"/>"
      ],
      "text/plain": [
       "<IPython.core.display.Image object>"
      ]
     },
     "metadata": {},
     "output_type": "display_data"
    }
   ],
   "source": [
    "url = 'https://www.janestreet.com/puzzles/current-puzzle/'\n",
    "res = requests.get(url)\n",
    "soup = BeautifulSoup(res.content, 'html.parser')\n",
    "y =[text for text in soup.body.stripped_strings]\n",
    "\n",
    "display(Markdown(\"### \" + y[13] + \"\\n\\n\"))\n",
    "display(Markdown(str(\"\\n\".join(y[14:15])) + \"\\n\\n\"))\n",
    "display(Markdown(y[15]))\n",
    "display(Image(url='https://www.janestreet.com/puzzles/games-night.jpg',width=400))\n"
   ]
  },
  {
   "cell_type": "code",
   "execution_count": 36,
   "metadata": {},
   "outputs": [],
   "source": [
    "# Solution to December 2024 Puzzle\n",
    "\n",
    "# 1. Identify the letters corresponding to the board games:\n",
    "# Chess: O \n",
    "# Sushi Go!: G\n",
    "# Uno: M\n",
    "# Risk: S\n",
    "# Monopoly: S\n",
    "# Catan: I\n",
    "# Scrabble: N\n",
    "# Dominion: I\n",
    "# Clue: N\n",
    "# Stratego: E\n",
    "# Bananagram: S\n",
    "\n",
    "# 2. Rearrange the letters by the positioning of the board games (Left to right, up to down):\n",
    "# Uno: M\n",
    "# Catan: I\n",
    "# Risk: S\n",
    "# Monopoly: S\n",
    "# Dominion: I\n",
    "# Scrabble: N\n",
    "# Sushi Go!: G\n",
    "# Chess: O\n",
    "# Clue: N\n",
    "# Stratego: E\n",
    "# Bananagram: S\n",
    "# Rearranging, the list reads \"Missing ones\"\n",
    "\n",
    "# 3. Notice most of the board game misses out some cards/pieces, find the according \"missing ones\":\n",
    "# Uno: Yellow cards (Y)\n",
    "# Catan: Ore (O)\n",
    "# Risk: Ural (U)\n",
    "# Monopoly: No missing (_)\n",
    "# Dominion: Silver (S)\n",
    "# Scrabble: U\n",
    "# Sushi Go!: Nigiri (N)\n",
    "# Chess: King (K)\n",
    "# Clue: No missing (_)\n",
    "# Stratego: Miner (M)\n",
    "# Bananagram: Y\n",
    "# Using the same arrangement as step 2, the list reads \"You sunk my\":\n",
    "\n",
    "# \"You sunk my\" has a reference to \"You sunk my Battleship\" where players must announce when their ship is sank.\n",
    "# Hence, the word is \"Battleship\"."
   ]
  }
 ],
 "metadata": {
  "kernelspec": {
   "display_name": "Python 3",
   "language": "python",
   "name": "python3"
  },
  "language_info": {
   "codemirror_mode": {
    "name": "ipython",
    "version": 3
   },
   "file_extension": ".py",
   "mimetype": "text/x-python",
   "name": "python",
   "nbconvert_exporter": "python",
   "pygments_lexer": "ipython3",
   "version": "3.12.1"
  }
 },
 "nbformat": 4,
 "nbformat_minor": 2
}
